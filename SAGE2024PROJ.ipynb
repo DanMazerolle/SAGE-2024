{
 "cells": [
  {
   "cell_type": "code",
   "execution_count": null,
   "id": "f6498704-8401-4633-8eb2-63a2a502ce92",
   "metadata": {},
   "outputs": [],
   "source": [
    "# See if you can edit this "
   ]
  }
 ],
 "metadata": {
  "kernelspec": {
   "display_name": "Python 3 (ipykernel)",
   "language": "python",
   "name": "python3"
  },
  "language_info": {
   "codemirror_mode": {
    "name": "ipython",
    "version": 3
   },
   "file_extension": ".py",
   "mimetype": "text/x-python",
   "name": "python",
   "nbconvert_exporter": "python",
   "pygments_lexer": "ipython3",
   "version": "3.11.5"
  }
 },
 "nbformat": 4,
 "nbformat_minor": 5
}
